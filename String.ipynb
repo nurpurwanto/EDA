{
  "nbformat": 4,
  "nbformat_minor": 0,
  "metadata": {
    "kernelspec": {
      "display_name": "Python 3",
      "language": "python",
      "name": "python3"
    },
    "language_info": {
      "codemirror_mode": {
        "name": "ipython",
        "version": 3
      },
      "file_extension": ".py",
      "mimetype": "text/x-python",
      "name": "python",
      "nbconvert_exporter": "python",
      "pygments_lexer": "ipython3",
      "version": "3.7.0"
    },
    "colab": {
      "name": "String.ipynb",
      "provenance": [],
      "collapsed_sections": []
    }
  },
  "cells": [
    {
      "cell_type": "markdown",
      "metadata": {
        "id": "ZwHc-3vSJdpj"
      },
      "source": [
        "Problem 1: Find the amount of substring."
      ]
    },
    {
      "cell_type": "markdown",
      "metadata": {
        "id": "_rD65MuvJdpm"
      },
      "source": [
        "Create a function whose name is ```substring_count``` that does the following: \n",
        "\n",
        "Given a string and a substring. Count how many times the substring appears in the string. The first input is always the string (the longer one), and the second input is always the substring (the shorter one).\n",
        "\n",
        "##### Example 1:\n",
        "\n",
        "Input:\n",
        "\n",
        "string = 'ABCDCDC'\n",
        "\n",
        "substring = 'CD'\n",
        "\n",
        "How many times 'CD' appears in 'ABCDCDC'? \n",
        "2 times! So when we run ```substring_count('ABCDCDC', 'CD')``` the output will be '2'. \n",
        "\n",
        "Output: 2\n",
        "\n",
        "##### Example 2:\n",
        "\n",
        "String:\n",
        "\n",
        "string = 'ABCDCDC'\n",
        "\n",
        "substring = 'CDC'\n",
        "\n",
        "How many times 'CDC' appears in 'ABCDCDC'?\n",
        "2 times! Yes, it can overlap. AB**CDC**DC, and ABCD**CDC**. So when we run ```substring_count('ABCDCDC', 'CDC')``` the output will be '2'. \n",
        "\n",
        "Output: 2\n",
        "\n",
        "##### Example 3:\n",
        "\n",
        "string = 'DEDFDEDEDEG'\n",
        "\n",
        "substring = 'DED'\n",
        "\n",
        "How many times 'DED' appears in 'DEDFDEDEDEG'?\n",
        "3 times! First: **DED**FDEDEDEG. Second: DEDF**DED**EDEG. Third: DEDFDE**DED**EG.\n",
        "\n",
        "Output: 3"
      ]
    },
    {
      "cell_type": "code",
      "metadata": {
        "id": "-dQgvKqmJdpp"
      },
      "source": [
        "### Write your solution here ###\n",
        "\n",
        "def substring_count(String, substring):\n",
        "  input_string = String     #String in which we want to find the necessary substring occuring count\n",
        "  target_substring = substring    #substring, whose occurence count in the given string has to be find out\n",
        "  count=0\n",
        "  for i in range(len(input_string)):\n",
        "    if input_string[i:i+len(target_substring)]==target_substring:\n",
        "      count+=1\n",
        "  print (count)\n",
        "  return"
      ],
      "execution_count": null,
      "outputs": []
    },
    {
      "cell_type": "code",
      "metadata": {
        "id": "Um0FiJYdJdps",
        "colab": {
          "base_uri": "https://localhost:8080/"
        },
        "outputId": "61e2998b-dc70-4f61-e6f1-988e1f2d9ff6"
      },
      "source": [
        "substring_count('ABCDCDC', 'CDC')\n",
        "#Expected output= 2"
      ],
      "execution_count": null,
      "outputs": [
        {
          "output_type": "stream",
          "name": "stdout",
          "text": [
            "2\n"
          ]
        }
      ]
    },
    {
      "cell_type": "markdown",
      "source": [
        "let's do it for Example 1, and Example 3"
      ],
      "metadata": {
        "id": "9zVltipNoecQ"
      }
    },
    {
      "cell_type": "code",
      "metadata": {
        "id": "T4YeC9kmJdpv",
        "colab": {
          "base_uri": "https://localhost:8080/"
        },
        "outputId": "167c6599-916b-4c0b-891e-67ec0efc915d"
      },
      "source": [
        "#Example 1:\n",
        "\n",
        "substring_count('ABCDCDC', 'CD')\n",
        "#Expected output= 2"
      ],
      "execution_count": null,
      "outputs": [
        {
          "output_type": "stream",
          "name": "stdout",
          "text": [
            "2\n"
          ]
        }
      ]
    },
    {
      "cell_type": "code",
      "source": [
        "#Example 3:\n",
        "\n",
        "substring_count('DEDFDEDEDEG', 'DED')\n",
        "#Expected output= 3"
      ],
      "metadata": {
        "colab": {
          "base_uri": "https://localhost:8080/"
        },
        "id": "ZNfey_Nbquz7",
        "outputId": "c9cb34cc-34e9-4900-cef4-3849205cdc20"
      },
      "execution_count": null,
      "outputs": [
        {
          "output_type": "stream",
          "name": "stdout",
          "text": [
            "3\n"
          ]
        }
      ]
    },
    {
      "cell_type": "markdown",
      "metadata": {
        "id": "kPc42YPuJdpw"
      },
      "source": [
        "Problem 2: How many different letters are there in the string?"
      ]
    },
    {
      "cell_type": "markdown",
      "metadata": {
        "id": "YtkU_gLYJdpx"
      },
      "source": [
        "Create a function called ```diff_letters``` that counts how many different letters are there in the input string.\n",
        "\n",
        "The input is just a single string.\n",
        "\n",
        "##### Example 1:\n",
        "\n",
        "Input: 'AAAAAAAAAB'\n",
        "\n",
        "Since there are only 2 different letters in the input string, the output is 2.\n",
        "\n",
        "When we run ```diff_letters```, the output is '2'.\n",
        "\n",
        "Output: 2\n",
        "\n",
        "##### Example 2:\n",
        "\n",
        "Input: 'ABCDAAAABBCCCE'\n",
        "\n",
        "Since there are 5 different letters in that string (A, B, C, D, E), the output is 5.\n",
        "\n",
        "Output: 5"
      ]
    },
    {
      "cell_type": "code",
      "metadata": {
        "id": "uQkNjT2kJdpz"
      },
      "source": [
        "### Write your code here ###\n",
        "\n",
        "def different_letters(String):\n",
        "  letters = String.upper()                # string capitalize\n",
        "  letters_set = set(letters)              # string to set\n",
        "  letters_list = list(letters_set)        # set to list\n",
        "  letters_list.sort()                     # sorting list\n",
        "  unique_letters = ''.join([str(item) for item in letters_list]) # list to string\n",
        "  unique_ = len(unique_letters)\n",
        "  print (unique_letters)\n",
        "  print (unique_)\n",
        "  return\n"
      ],
      "execution_count": null,
      "outputs": []
    },
    {
      "cell_type": "code",
      "metadata": {
        "id": "_BAImneoJdp0",
        "colab": {
          "base_uri": "https://localhost:8080/"
        },
        "outputId": "9a2f2307-ae3d-4a99-8660-ae533ac6ac1a"
      },
      "source": [
        "# Example 1: Input: 'AAAAAAAAAB'\n",
        "different_letters ('AAAAAAAAAB')"
      ],
      "execution_count": null,
      "outputs": [
        {
          "output_type": "stream",
          "name": "stdout",
          "text": [
            "AB\n",
            "2\n"
          ]
        }
      ]
    },
    {
      "cell_type": "code",
      "metadata": {
        "id": "GZG7-n3xJdp0",
        "colab": {
          "base_uri": "https://localhost:8080/"
        },
        "outputId": "ba11dbbc-0372-47a4-c0cc-e379e654ddc1"
      },
      "source": [
        "# Example 2: Input: 'ABCDAAAABBCCCE'\n",
        "different_letters('ABCDAAAABBCCCE')"
      ],
      "execution_count": null,
      "outputs": [
        {
          "output_type": "stream",
          "name": "stdout",
          "text": [
            "ABCDE\n",
            "5\n"
          ]
        }
      ]
    },
    {
      "cell_type": "code",
      "metadata": {
        "id": "o5uIxDWMJdp2",
        "colab": {
          "base_uri": "https://localhost:8080/"
        },
        "outputId": "a664e0b5-45ac-40c4-e3b4-77aa69a2c7c2"
      },
      "source": [
        "different_letters('CENDOL DAWET AYU HANYA RP.8000')"
      ],
      "execution_count": null,
      "outputs": [
        {
          "output_type": "stream",
          "name": "stdout",
          "text": [
            " .08ACDEHLNOPRTUWY\n",
            "18\n"
          ]
        }
      ]
    },
    {
      "cell_type": "code",
      "metadata": {
        "id": "X2K3osNDJdp1",
        "colab": {
          "base_uri": "https://localhost:8080/"
        },
        "outputId": "041c0971-e755-4675-cea1-5fb73bd0d40b"
      },
      "source": [
        "different_letters('BOOTCAMP DATASCIENCE DIBIMBING.ID')"
      ],
      "execution_count": null,
      "outputs": [
        {
          "output_type": "stream",
          "name": "stdout",
          "text": [
            " .ABCDEGIMNOPST\n",
            "15\n"
          ]
        }
      ]
    },
    {
      "cell_type": "code",
      "metadata": {
        "id": "7PkAapFHJdp2",
        "colab": {
          "base_uri": "https://localhost:8080/"
        },
        "outputId": "c3382c5b-3a65-4912-bbc1-eb6e5bcd8d97"
      },
      "source": [
        "different_letters('Nur Purwanto 11 A')"
      ],
      "execution_count": null,
      "outputs": [
        {
          "output_type": "stream",
          "name": "stdout",
          "text": [
            " 1ANOPRTUW\n",
            "10\n"
          ]
        }
      ]
    },
    {
      "cell_type": "code",
      "metadata": {
        "id": "3GAdA2ZlJdp2",
        "colab": {
          "base_uri": "https://localhost:8080/"
        },
        "outputId": "88dfda9f-131d-4429-fa14-0212ebd16ca1"
      },
      "source": [
        "different_letters('Kak udah makan? Selalu semangat , Sukses selalu !!!')"
      ],
      "execution_count": null,
      "outputs": [
        {
          "output_type": "stream",
          "name": "stdout",
          "text": [
            " !,?ADEGHKLMNSTU\n",
            "16\n"
          ]
        }
      ]
    },
    {
      "cell_type": "markdown",
      "metadata": {
        "id": "fiXI1RgZJdp3"
      },
      "source": [
        "Problem 3: Find Distance Between Two Coordinates - Medium"
      ]
    },
    {
      "cell_type": "markdown",
      "metadata": {
        "id": "TZx_zMmbJdp3"
      },
      "source": [
        "Create a function called ```distance``` that does the following:\n",
        "\n",
        "Given two coordinates in a list. Your task is to calculate the distance between these two coordinates. The input of your function will be a string. The coordinate that appears first is the first coordinate, and the coordinate that appears after the comma is the second coordinate.\n",
        "\n",
        "##### Example 1:\n",
        "\n",
        "Input: \n",
        "\n",
        "'(5,5), (1,2)'\n",
        "\n",
        "This means, the first point's coordinate is (5,5), the second point's coordinate is (1,2). To calculate the distance between these two points, we use the usual euclidean distance formula here: https://wikimedia.org/api/rest_v1/media/math/render/svg/2e0c9ce1b3455cb9e92c6bad6684dbda02f69c82. \n",
        "\n",
        "The distance is: \n",
        "\n",
        "Square root of ((5-1)^2 + (5-2)^2) = Square root of (16 + 9) = Square root of (25) = 5.\n",
        "\n",
        "Output: 'The distance is 5'\n",
        "\n",
        "So, when we run the code ```distance('(5,5),(1,2)')``` the output will be 'The distance is 5'.\n",
        "\n",
        "##### Example 2:\n",
        "\n",
        "Input:\n",
        "\n",
        "'(0,-1), (-3,2)'\n",
        "\n",
        "The first coordinate is (0,-1), the second coordinate is (-3,2). The distance between them is:\n",
        "\n",
        "Square root of ((0- -3)^2 + (-1-2)^2) = Square root of (9 + 9) = Square root of (18) = 4.242640687\n",
        "\n",
        "Output: 'The distance is 4.242640687'\n",
        "\n",
        "So, when we run the code ```distance('(0,-1),(-3,2)')``` the output will be 'The distance is 4.242640487'\n",
        "\n",
        "##### FAQ:\n",
        "\n",
        "- Question: \"Desimalnya dibuletin ga?\"\n",
        "- Answer: \"Ga usah peduliin format output desimalnya. Mau keluar berapa angka di belakang koma gpp kok. Yang penting value nya bener.\" \n",
        "- Question: \"Lha bedanya apa sama soal week 2?\"\n",
        "- Answer: \"Bedanya kali ini inputnya cuma 1, dan dia berupa teks (string), bukan list kyk minggu lalu. Semangat!\""
      ]
    },
    {
      "cell_type": "code",
      "metadata": {
        "id": "qcACpDdPJdp8"
      },
      "source": [
        "### Example\n",
        "#  a = '(5,5), (1,2)'\n",
        "\n",
        "#  distance(a) \n",
        "\n",
        "# when you run this cell, it is expected that the output will be:\n",
        "# 'The distance is 5'"
      ],
      "execution_count": null,
      "outputs": []
    },
    {
      "cell_type": "code",
      "metadata": {
        "id": "_z7gXtaTJdp9"
      },
      "source": [
        "import numpy as np\n",
        "string = str\n",
        "\n",
        "def distance(string):\n",
        "  #Write your code here\n",
        "\n",
        "# input from user begin #\n",
        "  string = input(\"Input two coordinates ,format (a,b),(c,d) :\")\n",
        "  \n",
        "  string= string.replace(\" \",\"\")\n",
        "  string= string.replace(\"(\",\"\")\n",
        "  string= string.replace(\")\",\"\")\n",
        "  string = string.split(',')\n",
        "  string = list(string)\n",
        "\n",
        "  a = float(string[0])\n",
        "  b = float(string[1])\n",
        "  c = float(string[2])\n",
        "  d = float(string[3])\n",
        "\n",
        "  point_1 =  np.array([a,b])\n",
        "  point_2 =  np.array([c,d])\n",
        "## input from user end #\n",
        "\n",
        "  # finding sum of squares\n",
        "  sum_sq = np.sum(np.square(point_1 - point_2))\n",
        "\n",
        "  # Doing squareroot and printing Euclidean distance\n",
        "  print(\"The distance is \",np.sqrt(sum_sq))\n",
        "  return "
      ],
      "execution_count": null,
      "outputs": []
    },
    {
      "cell_type": "code",
      "metadata": {
        "id": "MT6iH_F4Jdp_",
        "outputId": "87bbce04-6d2a-48b5-aeba-2d5c40e81bd7",
        "colab": {
          "base_uri": "https://localhost:8080/"
        }
      },
      "source": [
        "# string = (0,-1),(-3,2)\n",
        "distance(string)\n"
      ],
      "execution_count": null,
      "outputs": [
        {
          "output_type": "stream",
          "name": "stdout",
          "text": [
            "Input two coordinates ,format (a,b),(c,d) :(0, -1), (-3,2)\n",
            "The distance is  4.242640687119285\n"
          ]
        }
      ]
    },
    {
      "cell_type": "code",
      "source": [
        "# string = (5,5), (1,2)\n",
        "distance(string)"
      ],
      "metadata": {
        "colab": {
          "base_uri": "https://localhost:8080/"
        },
        "id": "VRfJLE-9Zq1z",
        "outputId": "f216bb43-d9d0-4728-bfc3-ab7681eacdac"
      },
      "execution_count": null,
      "outputs": [
        {
          "output_type": "stream",
          "name": "stdout",
          "text": [
            "Input two coordinates ,format (a,b),(c,d) :(5,  5), (1,  2)\n",
            "The distance is  5.0\n"
          ]
        }
      ]
    },
    {
      "cell_type": "code",
      "metadata": {
        "id": "ObTz5xL7JdqB",
        "colab": {
          "base_uri": "https://localhost:8080/"
        },
        "outputId": "67513c5e-cd24-49f9-9f09-4fb7665d6d49"
      },
      "source": [
        "#string = '(5,-5), (1,2)'\n",
        "distance(string)"
      ],
      "execution_count": null,
      "outputs": [
        {
          "output_type": "stream",
          "name": "stdout",
          "text": [
            "Input two coordinates ,format (a,b),(c,d) :(5, -5), (1,2)\n",
            "The distance is  8.06225774829855\n"
          ]
        }
      ]
    }
  ]
}