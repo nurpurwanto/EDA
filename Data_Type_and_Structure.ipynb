{
  "nbformat": 4,
  "nbformat_minor": 0,
  "metadata": {
    "colab": {
      "name": "Data_Type_and_Structure.ipynb",
      "provenance": [],
      "collapsed_sections": []
    },
    "kernelspec": {
      "name": "python3",
      "display_name": "Python 3"
    },
    "language_info": {
      "name": "python"
    }
  },
  "cells": [
    {
      "cell_type": "markdown",
      "source": [
        "#Write an if..else… code in Python to check whether a word is a  palindrome or not."
      ],
      "metadata": {
        "id": "PTynpX4CVz6p"
      }
    },
    {
      "cell_type": "code",
      "source": [
        "### Python program to check if a string is palindrome or not ###\n",
        "# takes a character of string one by one and store it in an empty variable.\n",
        "# After storing all the characters user will compare both the string and \n",
        "# check whether it is palindrome or not. \n",
        "\n",
        "\n",
        "word = input(\"Enter your Word: \") # Taking input from the user \n",
        "w = \"\"\n",
        "for i in word:\n",
        "    w = i + w\n",
        " \n",
        "if (word == w):\n",
        "    print(\"is a Palindrome\")\n",
        "else:\n",
        "    print(\"is not a Palindrome\")\n"
      ],
      "metadata": {
        "colab": {
          "base_uri": "https://localhost:8080/"
        },
        "id": "bhOBRqFsVu6U",
        "outputId": "5e0e9eac-5937-4482-9f26-3f58932df20b"
      },
      "execution_count": null,
      "outputs": [
        {
          "output_type": "stream",
          "name": "stdout",
          "text": [
            "Enter your Word: NURUN\n",
            "is a Palindrome\n"
          ]
        }
      ]
    },
    {
      "cell_type": "code",
      "execution_count": null,
      "metadata": {
        "colab": {
          "base_uri": "https://localhost:8080/"
        },
        "id": "gdHkbKWFRgj3",
        "outputId": "a4bc0942-dd9a-418d-f1ae-84ba19d8f49e"
      },
      "outputs": [
        {
          "output_type": "stream",
          "name": "stdout",
          "text": [
            "Enter your Word: PURWANTO\n",
            "is not a Palindrome\n"
          ]
        }
      ],
      "source": [
        "#  Find reverse of string\n",
        "## Check if reverse and original are same or not.\n",
        "\n",
        "#Function which return reverse of a string palindrome or not\n",
        "def isPalindrome(word):\n",
        "\treturn word == word[::-1]\n",
        "\n",
        "# main function\n",
        "word = input(\"Enter your Word: \") # Taking input from the user\n",
        "drive = isPalindrome(word)\n",
        "\n",
        "if drive:\n",
        "\tprint(\"is a Palindrome\")\n",
        "else:\n",
        "\tprint(\"is not a Palindrome\")\n"
      ]
    },
    {
      "cell_type": "code",
      "source": [
        "### Iterative Method ### \n",
        "# Run a loop from starting to length/2\n",
        "# and check the first character to the last character of the string\n",
        "# and second to second last one. If any character mismatches,\n",
        "# the string wouldn’t be a palindrome.\n",
        "\n",
        "# function to check string is palindrome or not \n",
        "def isPalindrome(str):\n",
        " \n",
        "    ## Run loop from 0 to len/2\n",
        "    for i in range(0, int(len(str)/2)):\n",
        "        if str[i] != str[len(str)-i-1]:\n",
        "            return False\n",
        "    return True\n",
        " \n",
        "# main function\n",
        "word = input(\"Enter your Word: \") # Taking input from the user \n",
        "drive = isPalindrome(word)\n",
        " \n",
        "if drive:\n",
        "\tprint(\"is a Palindrome\")\n",
        "else:\n",
        "\tprint(\"is not a Palindrome\")"
      ],
      "metadata": {
        "colab": {
          "base_uri": "https://localhost:8080/"
        },
        "id": "TtRY0csuY8vl",
        "outputId": "de4c7088-7122-45c7-9254-afd2e079de42"
      },
      "execution_count": null,
      "outputs": [
        {
          "output_type": "stream",
          "name": "stdout",
          "text": [
            "Enter your Word: ANANA\n",
            "is a Palindrome\n"
          ]
        }
      ]
    },
    {
      "cell_type": "code",
      "source": [
        "### Method using the inbuilt function to reverse a string ###\n",
        "\n",
        "# function to check string is palindrome or not\n",
        "def isPalindrome(word):\n",
        " \n",
        "    # Using predefined function to\n",
        "    # reverse to string print(word)\n",
        "    rev = ''.join(reversed(word))\n",
        " \n",
        "    # Checking if both string are\n",
        "    # equal or not\n",
        "    if (word == rev):\n",
        "        return True\n",
        "    return False\n",
        " \n",
        "# main function\n",
        "word = input(\"Enter your Word: \") # Taking input from the user \n",
        "drive = isPalindrome(word)\n",
        " \n",
        "if drive:\n",
        "\tprint(\"is a Palindrome\")\n",
        "else:\n",
        "\tprint(\"is not a Palindrome\")"
      ],
      "metadata": {
        "colab": {
          "base_uri": "https://localhost:8080/"
        },
        "id": "JUPzM3x1f2nV",
        "outputId": "d788c789-3695-4d0b-8372-9f3f98b199b0"
      },
      "execution_count": null,
      "outputs": [
        {
          "output_type": "stream",
          "name": "stdout",
          "text": [
            "Enter your Word: MERKABAH\n",
            "is not a Palindrome\n"
          ]
        }
      ]
    },
    {
      "cell_type": "code",
      "source": [
        "### Method using flag ###\n",
        "# In this method, the user compares each character from starting\n",
        "# and ending in a for loop and if the character does not match\n",
        "# then it will change the status of the flag.\n",
        "# Then it will check the status of the flag \n",
        "# and accordingly and print whether it is a palindrome or not. \n",
        "\n",
        "word = input(\"Enter your Word: \") # Taking input from the user \n",
        "j = -1\n",
        "flag = 0\n",
        "for i in word:\n",
        "    if i != word[j]:\n",
        "        flag = 1\n",
        "        break\n",
        "    j = j - 1\n",
        "if flag == 1:\n",
        "    print(\"is not a Palindrome\")\n",
        "else:\n",
        "    print(\"is a Palindrome\")"
      ],
      "metadata": {
        "colab": {
          "base_uri": "https://localhost:8080/"
        },
        "id": "OxaP_pfig8J2",
        "outputId": "ca7038d3-be16-4f50-92c7-61a97a8fff05"
      },
      "execution_count": null,
      "outputs": [
        {
          "output_type": "stream",
          "name": "stdout",
          "text": [
            "Enter your Word: KASURRUSAK\n",
            "is a Palindrome\n"
          ]
        }
      ]
    },
    {
      "cell_type": "code",
      "source": [
        "### Method using recursion: ### \n",
        "# This method compares the first and the last element of the string\n",
        "# and gives the rest of the substring to a recursive call to itself. \n",
        "\n",
        "# Recursive function to check if a string is palindrome\n",
        "def isPalindrome(word):\n",
        " \n",
        "    # to change it the string is similar case\n",
        "    word = word.lower()\n",
        "    # length of word\n",
        "    l = len(word)\n",
        " \n",
        "    # if length is less than 2\n",
        "    if l < 2:\n",
        "        return True\n",
        " \n",
        "    # If word[0] and word[l-1] are equal\n",
        "    elif word[0] == word[l - 1]:\n",
        " \n",
        "        # Call is palindrome form substring(1,l-1)\n",
        "        return isPalindrome(word[1: l - 1])\n",
        " \n",
        "    else:\n",
        "        return False\n",
        " \n",
        "# main function\n",
        "word = input(\"Enter your Word: \") # Taking input from the user \n",
        "drive = isPalindrome(word)\n",
        " \n",
        "if drive:\n",
        "\tprint(\"is a Palindrome\")\n",
        "else:\n",
        "\tprint(\"is not a Palindrome\")"
      ],
      "metadata": {
        "colab": {
          "base_uri": "https://localhost:8080/"
        },
        "id": "h-4UEo80h1fm",
        "outputId": "60e8a110-fb4f-4aee-973d-0ce04b84047e"
      },
      "execution_count": null,
      "outputs": [
        {
          "output_type": "stream",
          "name": "stdout",
          "text": [
            "Enter your Word: YOGYAKARTA\n",
            "is not a Palindrome\n"
          ]
        }
      ]
    },
    {
      "cell_type": "markdown",
      "source": [
        "#black_list_word = [‘andi’, ‘susi’, ‘bola’]\n",
        "\n"
      ],
      "metadata": {
        "id": "wXDstL9MjD1J"
      }
    },
    {
      "cell_type": "code",
      "source": [
        "kalimat1 = \"andi sedang makan nasi padang\"\n",
        "kalimat2 = \"sandi sedang makan bermain tenis\"\n",
        "kalimat3 = \"andi dan sandi sedang makan\"\n",
        "kalimat4 = \"budi dan susi sedang makan\"\n",
        "kalimat5 = \"erna  sedang berenang\"\n",
        "kalimat6 = \"raffa sedang makan bermain bola\"\n",
        "\n",
        "print (\"Blacklist word = 'andi', 'susi', 'bola'\")\n",
        "print (\"\")\n",
        "print (\"1 \", kalimat1)\n",
        "print (\"2 \", kalimat2)\n",
        "print (\"3 \", kalimat3)\n",
        "print (\"4 \", kalimat4)\n",
        "print (\"5 \", kalimat5)\n",
        "print (\"6 \", kalimat6)\n",
        "print (\"\")\n",
        "\n",
        "kalimat = input(\"Enter your sentence number: \") # Taking input from the user\n",
        "if kalimat not in (\"1, 2, 3, 4 ,5 ,6\"): \n",
        "    print (\"please only enter number 1 - 6\")\n",
        "    print (\"\") \n",
        "    kalimat = input(\"Enter your sentence number: \")\n",
        "elif kalimat == '1': \n",
        "  quote = kalimat1\n",
        "elif kalimat == '2': \n",
        "  quote = kalimat2\n",
        "elif kalimat == '3': \n",
        "  quote = kalimat3\n",
        "elif kalimat == '4': \n",
        "  quote = kalimat4\n",
        "elif kalimat == '5': \n",
        "  quote = kalimat5\n",
        "else:\n",
        "  quote = kalimat6\n",
        "\n",
        "frase = quote.split() #convert string to list\n",
        "black_list_word = ['andi', 'susi', 'bola']  # string is Blacklist\n",
        "\n",
        "# function to check sentences contain string that are blacklisted or not\n",
        "def isBlackList():\n",
        "  x=0\n",
        "  for character in black_list_word:\n",
        "    for f in frase:\n",
        "      if character == f: \n",
        "         x=1\n",
        "         break\n",
        "  return x\n",
        "\n",
        "drive = isBlackList()\n",
        " \n",
        "if drive==1 :\n",
        "\tprint(\"ada black list word\")\n",
        "else:\n",
        "\tprint (\"tidak ada black list word\")"
      ],
      "metadata": {
        "colab": {
          "base_uri": "https://localhost:8080/"
        },
        "id": "eyxXqXCpm9yY",
        "outputId": "6cb57da2-5e5e-43eb-fbda-ae0c8e794314"
      },
      "execution_count": null,
      "outputs": [
        {
          "output_type": "stream",
          "name": "stdout",
          "text": [
            "Blacklist word = 'andi', 'susi', 'bola'\n",
            "\n",
            "1  andi sedang makan nasi padang\n",
            "2  sandi sedang makan bermain tenis\n",
            "3  andi dan sandi sedang makan\n",
            "4  budi dan susi sedang makan\n",
            "5  erna  sedang berenang\n",
            "6  raffa sedang makan bermain bola\n",
            "\n",
            "Enter your sentence number: 4\n",
            "ada black list word\n"
          ]
        }
      ]
    }
  ]
}