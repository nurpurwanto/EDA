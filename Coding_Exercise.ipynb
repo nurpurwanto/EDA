{
  "nbformat": 4,
  "nbformat_minor": 0,
  "metadata": {
    "kernelspec": {
      "display_name": "Python 3",
      "language": "python",
      "name": "python3"
    },
    "language_info": {
      "codemirror_mode": {
        "name": "ipython",
        "version": 3
      },
      "file_extension": ".py",
      "mimetype": "text/x-python",
      "name": "python",
      "nbconvert_exporter": "python",
      "pygments_lexer": "ipython3",
      "version": "3.7.0"
    },
    "colab": {
      "name": "Coding Exercise.ipynb",
      "provenance": [],
      "collapsed_sections": []
    }
  },
  "cells": [
    {
      "cell_type": "markdown",
      "metadata": {
        "id": "79NwqjIq64qr"
      },
      "source": [
        "Problem 1: Who is in the third place?"
      ]
    },
    {
      "cell_type": "markdown",
      "metadata": {
        "id": "9db_O8Co64qs"
      },
      "source": [
        "Create a function whose name is ```third_place``` that does the following: \n",
        "\n",
        "Given a list of test score and a list of participants name. The desired output would be the name of the participant who gets the 3rd best score. The rule of determining the order of the best score is as follows:\n",
        "- Higher score is better\n",
        "- In case of multiple participants having the same test score, they can occupy the same ranking value. For example, if 2 participants scored 100, then both of them occupy the first place. \n",
        "\n",
        "The first input of the function is the name list, and the second input to the function is the score list.\n",
        "\n",
        "##### Example 1:\n",
        "\n",
        "Input:\n",
        "\n",
        "names = [Andi, Budi, Charlie, Dilan, Echa]\n",
        "\n",
        "score = [80, 90, 95, 100, 85]\n",
        "\n",
        "This means, Andi gets 80, Budi gets 90, Charlie gets 95, Dilan gets 100, and Echa gets 85. The first best score is 100, and Dilan gets it. The second best score is 95, and Charlie gets it. The third best score is 90, and Budi gets it. So, our output should be Budi.\n",
        "\n",
        "Output: 'The third winner: Budi'.\n",
        "\n",
        "When we run ```third_place(names, score)```, the output will be 'The third winner: Budi'.\n",
        "\n",
        "##### Example 2:\n",
        "\n",
        "Input:\n",
        "\n",
        "names = [Andi, Budi, Charlie, Dilan, Echa]\n",
        "\n",
        "score = [80, 80, 80, 100, 90]\n",
        "\n",
        "This means, Andi, Budi, and Charlie gets 80, Dilan gets 100, and Echa gets 90. The third best score is 80, and our output should list ALL of the participants who get 80. \n",
        "\n",
        "Output: 'The third winner: Andi, Budi, Charlie'.\n",
        "\n",
        "When we run ```third_place(names, score)```, the output will be 'The third winner: Andi, Budi, Charlie'.\n",
        "\n",
        "\n",
        "##### Example 3:\n",
        "\n",
        "Input:\n",
        "\n",
        "names = [Andi, Budi, Charlie, Dilan, Echa, Fanya]\n",
        "\n",
        "score = [80, 90, 90, 100, 100, 80]\n",
        "\n",
        "The first best score (first winner) is 100 - Dilan and Echa shared this position. The second best score (second winner) is 90 - Budi and Charlie shared this position. The third best score (third winner) is 80, and it is shared by Andi and Fanya. So, our output should be Andi and Fanya.\n",
        "\n",
        "Output: 'The third winner: Andi, Fanya'."
      ]
    },
    {
      "cell_type": "code",
      "source": [
        "import pandas as pd\n",
        "\n",
        "names= list\n",
        "score= list\n",
        "\n",
        "def third_place(names, score):  # fungsi menentukan The third winner   \n",
        "\n",
        "    #mengambil input list Nama dan list Score\n",
        "    print (\"input list Nama with separator ',' \")\n",
        "    names = [str(x) for x in input().split(\",\")] \n",
        "    print (\"input list Score with separator ',' \")\n",
        "    score = [int(x) for x in input().split(\",\")]\n",
        "    print (\" \")\n",
        "\n",
        "    data_dict= { #membuat dictionary dari input list\n",
        "        'Nama':names,\n",
        "        'Score':score\n",
        "        }\n",
        "    df_score = pd.DataFrame(data_dict) #membuat dataframe dari dictionary\n",
        "    df_score\n",
        "\n",
        "    #mengurutkan berdasarkan score\n",
        "    df_score=df_score.sort_values('Score', ascending=False, ignore_index= True)\n",
        "\n",
        "    #Ambil value Score peringkat 3    \n",
        "    df=df_score['Score'].drop_duplicates()\n",
        "    df=df.values.tolist()\n",
        "    score3=df[2]\n",
        "\n",
        "    #Ambil semua Nama yang memiliki Score peringkat 3\n",
        "    third_winner =df_score[df_score['Score']==int(score3)]['Nama']\n",
        "    tw = third_winner.count()\n",
        "\n",
        "    if  tw > 1 :\n",
        "      print ('The third winner: ',','.join(map(str, third_winner)))\n",
        "    else :\n",
        "      print ('The third winner: ',''.join(map(str, third_winner)))\n",
        "\n",
        "    return \n",
        "\n",
        "# menjalankan fungsi third_place\n",
        "third_place(names,score) "
      ],
      "metadata": {
        "colab": {
          "base_uri": "https://localhost:8080/"
        },
        "id": "vOLbU5YRrbwk",
        "outputId": "0c3fc14d-ee39-4f9b-d246-5eaf2e9e1104"
      },
      "execution_count": null,
      "outputs": [
        {
          "output_type": "stream",
          "name": "stdout",
          "text": [
            "input list Nama with separator ',' \n",
            "Andi, Budi, Charlie, Dilan, Echa\n",
            "input list Score with separator ',' \n",
            "80, 90, 95, 100, 85\n",
            " \n",
            "The third winner:   Budi\n"
          ]
        }
      ]
    },
    {
      "cell_type": "code",
      "source": [
        "third_place(names,score) # menjalankan fungsi third_place [Example 2]"
      ],
      "metadata": {
        "colab": {
          "base_uri": "https://localhost:8080/"
        },
        "id": "WNHDq8JJmwML",
        "outputId": "3f04eac8-4794-438e-db60-3db39adca9e6"
      },
      "execution_count": null,
      "outputs": [
        {
          "output_type": "stream",
          "name": "stdout",
          "text": [
            "input list Nama with separator ',' \n",
            "Andi, Budi, Charlie, Dilan, Echa\n",
            "input list Score with separator ',' \n",
            "80, 80, 80, 100, 90\n",
            " \n",
            "The third winner:  Andi, Budi, Charlie\n"
          ]
        }
      ]
    },
    {
      "cell_type": "code",
      "source": [
        "third_place(names,score) # menjalankan fungsi third_place [Example 3]"
      ],
      "metadata": {
        "colab": {
          "base_uri": "https://localhost:8080/"
        },
        "id": "AzM4q1VCmzcT",
        "outputId": "35cdbe98-5d92-4623-f428-11576bdd04db"
      },
      "execution_count": null,
      "outputs": [
        {
          "output_type": "stream",
          "name": "stdout",
          "text": [
            "input list Nama with separator ',' \n",
            "Andi, Budi, Charlie, Dilan, Echa, Fanya\n",
            "input list Score with separator ',' \n",
            "80, 90, 90, 100, 100, 80\n",
            " \n",
            "The third winner:  Andi, Fanya\n"
          ]
        }
      ]
    },
    {
      "cell_type": "markdown",
      "source": [
        "-----------------------------------------------------------------"
      ],
      "metadata": {
        "id": "61Fjx-0h_Jrt"
      }
    },
    {
      "cell_type": "markdown",
      "metadata": {
        "id": "1ydxvEez64q3"
      },
      "source": [
        "Problem 2: Find the Square Root!"
      ]
    },
    {
      "cell_type": "markdown",
      "metadata": {
        "id": "nvcBPlgV64q5"
      },
      "source": [
        "Create a function whose name is ```square_root``` that does the following:\n",
        "\n",
        "Given a second order polynomial, find the roots (roots should be in real number). The input will be 3 numbers, each of them representing 'a', 'b', and 'c', in ax^2 + bx + c = 0.\n",
        "\n",
        "Your task is to find the root of ax^2 + bx + c = 0. \n",
        "\n",
        "However, notice that sometimes an equation cannot be solved, or they have only one solution instead of two. Your function should also take this into consideration. \n",
        "\n",
        "The input of your function is 3 numbers, first number is the 'a' constant, second number is the 'b' constant, and third number is the 'c' constant.\n",
        "\n",
        "##### Example 1:\n",
        "\n",
        "Input: a = 1, b = -5, c = 6.\n",
        "\n",
        "This means, the equation is 1x^2 - 5x + 6 = 0. \n",
        "This equation has two solutions, the first solution is x = 3, and the second solution is x = 2. So, your output should be:\n",
        "\n",
        "Output: 'X1 = 3, X2 = 2'.\n",
        "\n",
        "When we run the code ```square_root(1, -5, 6)``` the output will be: 'X1 = 3, X2 = 2'\n",
        "\n",
        "##### Example 2:\n",
        "\n",
        "Input: a = 2, b = 4, c = 2.\n",
        "\n",
        "This means, the equation is 2x^2 + 4x + 2 = 0. \n",
        "This equation has only one solution, which is x = -1. \n",
        "\n",
        "Output; 'X = -1'.\n",
        "\n",
        "##### Example 3:\n",
        "\n",
        "Input: a = 1, b = 1, c = 9.\n",
        "\n",
        "This means, the equation is x^2 + x + 9 = 0.\n",
        "This equation has no real solution. (If you have learned about imaginary or complex numbers, the solution of this equation is those kind of numbers. But here, we're just going to deal with real numbers).\n",
        "\n",
        "Output: 'No solution'."
      ]
    },
    {
      "cell_type": "code",
      "source": [
        "import math \n",
        "a = list\n",
        "b = list\n",
        "c = list\n",
        "\n",
        "# function for finding roots\n",
        "def square_root ( a, b, c): \n",
        "    \n",
        "    #input 3 numbers a,b,c and should be in real number\n",
        "    a = float(input(\"Enter a:\"))\n",
        "    b = float(input(\"Enter b:\"))\n",
        "    c = float(input(\"Enter c:\"))\n",
        "\n",
        "    # calculating polynomial using formula\n",
        "    dis = b * b - 4 * a * c \n",
        "    sqrt_val = math.sqrt(abs(dis)) \n",
        "      \n",
        "    # two solution\n",
        "    if dis > 0: \n",
        "        print(\"X1= \",int ((-b + sqrt_val)/(2 * a))) \n",
        "        print(\"X2= \",int ((-b - sqrt_val)/(2 * a))) \n",
        "    # one solution   \n",
        "    elif dis == 0: \n",
        "        print(\"X= \",int (-b / (2 * a)))      \n",
        "    # No solution\n",
        "    else:\n",
        "        print(\"No solution\")  \n",
        "\n",
        "    return\n",
        "\n",
        "# Driver Program \n",
        "square_root(a, b, c)"
      ],
      "metadata": {
        "colab": {
          "base_uri": "https://localhost:8080/"
        },
        "id": "Cxhe8Y_a0SCQ",
        "outputId": "5bc9ee4c-71e4-4a21-8c3b-757d9404237a"
      },
      "execution_count": null,
      "outputs": [
        {
          "output_type": "stream",
          "name": "stdout",
          "text": [
            "Enter a:1\n",
            "Enter b:-5\n",
            "Enter c:6\n",
            "X1=  3\n",
            "X2=  2\n"
          ]
        }
      ]
    },
    {
      "cell_type": "code",
      "source": [
        "square_root(a, b, c) # Driver Program for Example 2:"
      ],
      "metadata": {
        "colab": {
          "base_uri": "https://localhost:8080/"
        },
        "id": "-B_ZCRIQBNLF",
        "outputId": "dd5cfc52-599f-4811-b19b-25c1429bc805"
      },
      "execution_count": null,
      "outputs": [
        {
          "output_type": "stream",
          "name": "stdout",
          "text": [
            "Enter a:2\n",
            "Enter b:4\n",
            "Enter c:2\n",
            "X=  -1\n"
          ]
        }
      ]
    },
    {
      "cell_type": "code",
      "source": [
        "square_root(a, b, c) # Driver Program for Example 3:"
      ],
      "metadata": {
        "colab": {
          "base_uri": "https://localhost:8080/"
        },
        "id": "OfYGK5Y0BUDz",
        "outputId": "53e75b0b-a2b1-4ce1-af55-ea3102276dcd"
      },
      "execution_count": null,
      "outputs": [
        {
          "output_type": "stream",
          "name": "stdout",
          "text": [
            "Enter a:1\n",
            "Enter b:1\n",
            "Enter c:9\n",
            "No solution\n"
          ]
        }
      ]
    },
    {
      "cell_type": "markdown",
      "source": [
        "-----------------------------------------------------------------"
      ],
      "metadata": {
        "id": "WbOS62nj_EgU"
      }
    },
    {
      "cell_type": "markdown",
      "metadata": {
        "id": "NntHmMB164q-"
      },
      "source": [
        "Problem 3: Find Distance Between Two Coordinates - Easy"
      ]
    },
    {
      "cell_type": "markdown",
      "metadata": {
        "id": "12EaDJlE64q_"
      },
      "source": [
        "Create a function called ```distance``` that does the following:\n",
        "\n",
        "Given two coordinates in a list. Your task is to calculate the distance between these two coordinates. The input of your function will be two list. Each list contains 2 members, representing the x and y position.\n",
        "\n",
        "##### Example 1:\n",
        "\n",
        "Input: \n",
        "\n",
        "point_1 = [5, 5]\n",
        "\n",
        "point_2 = [1, 2]\n",
        "\n",
        "This means, the first point's coordinate is (5,5), the second point's coordinate is (1,2). To calculate the distance between these two points, we use the usual euclidean distance formula here: https://wikimedia.org/api/rest_v1/media/math/render/svg/2e0c9ce1b3455cb9e92c6bad6684dbda02f69c82. \n",
        "\n",
        "The distance is: \n",
        "\n",
        "Square root of ((5-1)^2 + (5-2)^2) = Square root of (16 + 9) = Square root of (25) = 5.\n",
        "\n",
        "Output: 'The distance is 5.'\n",
        "\n",
        "So, when we run the code ```distance(point_1, point_2)``` the output will be 'The distance is 5'.\n",
        "\n",
        "##### Example 2:\n",
        "\n",
        "Input:\n",
        "\n",
        "point_1 = [0,-1]\n",
        "\n",
        "point_2 = [-3, 2]\n",
        "\n",
        "The first coordinate is (0,-1), the second coordinate is (-3,2). The distance between them is:\n",
        "\n",
        "Square root of ((0- -3)^2 + (-1-2)^2) = Square root of (9 + 9) = Square root of (18) = 4.242640687\n",
        "\n",
        "Output: 'The distance is 4.242640687'.\n",
        "\n",
        "So, when we run the code ```distance(point_1, point_2)``` the output will be 'The distance is 4.242640487'.\n",
        "\n",
        "##### FAQ:\n",
        "\n",
        "- Question: \"Desimalnya dibuletin ga?\"\n",
        "- Answer: \"Ga usah peduliin format output desimalnya. Mau keluar berapa angka di belakang koma gpp kok. Yang penting value nya bener.\" "
      ]
    },
    {
      "cell_type": "code",
      "metadata": {
        "id": "4rmwX2y564rA",
        "colab": {
          "base_uri": "https://localhost:8080/"
        },
        "outputId": "abf1dfce-7436-47b4-e431-ec399caa0eee"
      },
      "source": [
        "import numpy as np\n",
        "\n",
        "point_1 = list\n",
        "point_2 = list\n",
        "\n",
        "def distance(point_1, point_2):\n",
        "\n",
        "  #input list & initializing points in numpy arrays\n",
        "  print (\"input coordinate 1 \")\n",
        "  point_1 = np.array(([float(x) for x in input().split(\",\")] ))\n",
        "\n",
        "  print (\"input coordinate 2  \")\n",
        "  point_2 = np.array(([float(x) for x in input().split(\",\")]))   \n",
        "\n",
        "  # finding sum of squares\n",
        "  sum_sq = np.sum(np.square(point_1 - point_2))\n",
        "  \n",
        "  # Doing squareroot and printing Euclidean distance\n",
        "  print(\"The distance is \",np.sqrt(sum_sq))\n",
        "  print(point_1)\n",
        "  print(point_2)\n",
        "\n",
        "  return\n",
        "\n",
        "# Driver Program \n",
        "distance(point_1, point_2)"
      ],
      "execution_count": null,
      "outputs": [
        {
          "output_type": "stream",
          "name": "stdout",
          "text": [
            "input coordinate 1 \n",
            "5,5\n",
            "input coordinate 2  \n",
            "1,2\n",
            "The distance is  5.0\n",
            "[5. 5.]\n",
            "[1. 2.]\n"
          ]
        }
      ]
    },
    {
      "cell_type": "code",
      "source": [
        "distance(point_1, point_2) # Driver Program for Example 2"
      ],
      "metadata": {
        "colab": {
          "base_uri": "https://localhost:8080/"
        },
        "id": "IYgFv-YHdcpC",
        "outputId": "2e575c99-3713-489d-c7f8-a999511a516d"
      },
      "execution_count": null,
      "outputs": [
        {
          "output_type": "stream",
          "name": "stdout",
          "text": [
            "input coordinate 1 \n",
            "0,-1\n",
            "input coordinate 2  \n",
            "-3,2\n",
            "The distance is  4.242640687119285\n"
          ]
        }
      ]
    }
  ]
}