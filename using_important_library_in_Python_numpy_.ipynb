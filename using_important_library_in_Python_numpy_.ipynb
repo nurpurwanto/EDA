{
  "cells": [
    {
      "cell_type": "markdown",
      "metadata": {
        "id": "a7c27789"
      },
      "source": [
        "Today, we're discussing a very important library in Python called `numpy`.\n",
        "\n",
        "As a reference, these libraries are primary requirements for Data Scientists in a top Indonesian tech company - while R is not listed in the requirements. \n",
        "\n",
        "So, it's very important to master these libraries."
      ],
      "id": "a7c27789"
    },
    {
      "cell_type": "code",
      "execution_count": null,
      "metadata": {
        "id": "16fc201b"
      },
      "outputs": [],
      "source": [
        "# !pip install -U IPython"
      ],
      "id": "16fc201b"
    },
    {
      "cell_type": "code",
      "execution_count": null,
      "metadata": {
        "id": "ccc51955"
      },
      "outputs": [],
      "source": [
        "# from IPython.display import Image\n",
        "# Image(url= \"img/image1.jpg\", width=400, height=400)"
      ],
      "id": "ccc51955"
    },
    {
      "cell_type": "code",
      "execution_count": null,
      "metadata": {
        "id": "d70e4ba5"
      },
      "outputs": [],
      "source": [
        "# from IPython.display import Image\n",
        "# Image(url= \"img/image2.jpg\", width=400, height=400)"
      ],
      "id": "d70e4ba5"
    },
    {
      "cell_type": "markdown",
      "source": [
        "![image1.jpg](https://drive.google.com/uc?id=1_T8LPxMaYq06uW9JNqOy6Y0yIu_p9EZU)"
      ],
      "metadata": {
        "id": "YeZX0LT7OOxv"
      },
      "id": "YeZX0LT7OOxv"
    },
    {
      "cell_type": "markdown",
      "source": [
        "![image2.jpg](https://drive.google.com/uc?id=15E-Od0G_2eqvCnR9t8Div5V4adnGbswA)"
      ],
      "metadata": {
        "id": "gZCRWVapOrh-"
      },
      "id": "gZCRWVapOrh-"
    },
    {
      "cell_type": "code",
      "execution_count": null,
      "metadata": {
        "id": "34c5e1be"
      },
      "outputs": [],
      "source": [
        "import numpy as np"
      ],
      "id": "34c5e1be"
    },
    {
      "cell_type": "markdown",
      "metadata": {
        "id": "ce57b62e"
      },
      "source": [
        "This function will be called `display_max`. Your input will be a `numpy array`. Your output will be to tell us at which index is the maximum value of each row. Separate your output for each row with commas.\n",
        "\n",
        "If there are more than one maximum values, only tell us the position of the FIRST occurence. \n",
        "\n",
        "#### Example 1\n",
        "\n",
        "Input array: `[[1,2,3,4,3], [5,10,8,3,2], [-5,7,8.4,1,0]]`\n",
        "\n",
        "Output: 3, 1, 2\n",
        "\n",
        "Explanation:\n",
        "\n",
        "- The first row, `[1,2,3,4,3]`, has the maximum value of `4` at index = 3 (Remember! This is Python. Index starts at 0)\n",
        "\n",
        "- The second row, `[5,10,8,3,2]`, has the maximum value of `10` at index = 1\n",
        "\n",
        "- The third row, `[-5,7,8.4,1,0]`, has the maximum value of `8.4` at index = 2\n",
        "\n",
        "So, your output should be '3,1,2'\n",
        "\n",
        "#### Example 2\n",
        "\n",
        "Input array = `[[5,10,1,3], [1,5,1,5], [0,3,1,8]]`\n",
        "\n",
        "Output: 1,1,3\n",
        "\n",
        "Explanation:\n",
        "\n",
        "- The first row, `[5,10,1,3]` has the maximum value of `10` at index = 1\n",
        "- The second row, `[1,5,1,5]` has the maximum value of `5` at index = 1, 3. But we only need to print the first occurence, so we only print index = 1. \n",
        "- The third row, `[0,3,1,8]` has the maximum value of `8` at index = 3.\n",
        "\n",
        "So, your output should be '1,1,3'\n",
        "\n",
        "#### Constrains:\n",
        "- Number of rows could be any integer. We can have input array of any shape and sizes. "
      ],
      "id": "ce57b62e"
    },
    {
      "cell_type": "code",
      "execution_count": null,
      "metadata": {
        "id": "afc8949f"
      },
      "outputs": [],
      "source": [
        "from numpy import unravel_index\n",
        "\n",
        "def display_max(input_array):\n",
        "    ### Write your solution here ###\n",
        "    a=input_array\n",
        "    x=str(np.argmax(a, axis=1))\n",
        "    n=len(x)-1\n",
        "    x=x[1:n]\n",
        "    x=x.replace(\" \", \",\")\n",
        "    print(\"Output: \",x)\n",
        "    return\n"
      ],
      "id": "afc8949f"
    },
    {
      "cell_type": "markdown",
      "source": [
        "Use this to check if your code is correct"
      ],
      "metadata": {
        "id": "fJU3znvRcdof"
      },
      "id": "fJU3znvRcdof"
    },
    {
      "cell_type": "code",
      "metadata": {
        "id": "25416c41",
        "outputId": "8d85a864-5e59-4687-c95b-15861024e669",
        "colab": {
          "base_uri": "https://localhost:8080/"
        }
      },
      "source": [
        "## Test Case 1\n",
        "input_array = np.array([[5,10,1,3], [1,5,1,5], [0,3,1,8]])\n",
        "display_max(input_array)\n",
        "\n",
        "## Expected output: '1,1,3'\n",
        "\n",
        "## Jika jawabannya '1,1,3,' (kelebihan koma) \n",
        "##... atau memiliki bentuk string lain yang\n",
        "##... tidak sama persis dengan '1,1,3' tapi angka yang dikeluarkan \n",
        "##... sudah sama, maka kurangi nilainya sedikit saja"
      ],
      "execution_count": null,
      "outputs": [
        {
          "output_type": "stream",
          "name": "stdout",
          "text": [
            "Output:  1,1,3\n"
          ]
        }
      ],
      "id": "25416c41"
    },
    {
      "cell_type": "code",
      "metadata": {
        "id": "dbdd069b",
        "outputId": "59a58767-66b7-4a46-dccd-d0d45e176af6",
        "colab": {
          "base_uri": "https://localhost:8080/"
        }
      },
      "source": [
        "## Test Case 2\n",
        "input_array = np.array([[1,2,3,4,5,6], [6,5,4,3,2,1], [1,6,5,4,3,2],\n",
        "                       [3,3,9,9,3,9]])\n",
        "display_max(input_array)\n",
        "\n",
        "## Expected output: '5,0,1,2'\n",
        "\n",
        "## Jika jawabannya '5,0,1,2,' (kelebihan koma) \n",
        "##... atau memiliki bentuk string lain yang\n",
        "##... tidak sama persis dengan '5,0,1,2' tapi angka yang dikeluarkan \n",
        "##... sudah sama, maka kurangi nilainya sedikit saja"
      ],
      "execution_count": null,
      "outputs": [
        {
          "output_type": "stream",
          "name": "stdout",
          "text": [
            "Output:  5,0,1,2\n"
          ]
        }
      ],
      "id": "dbdd069b"
    },
    {
      "cell_type": "code",
      "metadata": {
        "id": "2ddf928c",
        "outputId": "4a82bd41-ebb8-4f30-c7cd-a55e3dad2d8e",
        "colab": {
          "base_uri": "https://localhost:8080/"
        }
      },
      "source": [
        "## Test Case 3\n",
        "input_array = np.array([[-5,10], [10,-5], [1,1],\n",
        "                       [2,1], [1,2]])\n",
        "display_max(input_array)\n",
        "\n",
        "## Expected output: '1,0,0,0,1'\n",
        "\n",
        "## Jika jawabannya '1,0,0,0,1,' (kelebihan koma) \n",
        "##... atau memiliki bentuk string lain yang\n",
        "##... tidak sama persis dengan '1,0,0,0,1' tapi angka yang dikeluarkan \n",
        "##... sudah sama, maka kurangi nilainya sedikit saja"
      ],
      "execution_count": null,
      "outputs": [
        {
          "output_type": "stream",
          "name": "stdout",
          "text": [
            "Output:  1,0,0,0,1\n"
          ]
        }
      ],
      "id": "2ddf928c"
    },
    {
      "cell_type": "markdown",
      "metadata": {
        "id": "a93c3748"
      },
      "source": [
        "##### Reminder ####\n",
        "\n",
        "If the solution has looping `for`, `while`, you do not get the points. The aim of this exercise is to avoid looping while doing things that require certain conditions."
      ],
      "id": "a93c3748"
    },
    {
      "cell_type": "markdown",
      "metadata": {
        "id": "95fe6946"
      },
      "source": [
        "This function called `grade`. Input will be an array where each rows shows the score of a student. Output will be an array WITH THE EXACT SAME SIZE as the input array, but only filled with 'P' and 'F'.\n",
        "\n",
        "- If the score is >= 70, then for that test, the student passes. We give the symbol 'P' to indicate that the student passes.\n",
        "- If the score is < 70, then for that test, the student fails. We give the symbol 'F', to indicate that the student fails."
      ],
      "id": "95fe6946"
    },
    {
      "cell_type": "markdown",
      "metadata": {
        "id": "7a53a67f"
      },
      "source": [
        "#### Example 1:"
      ],
      "id": "7a53a67f"
    },
    {
      "cell_type": "code",
      "execution_count": null,
      "metadata": {
        "id": "04e3a36f",
        "outputId": "f91597e3-b44f-46b2-da4a-bd28f9931444"
      },
      "outputs": [
        {
          "data": {
            "text/plain": [
              "array([[ 80,  50,  80,  60,  70],\n",
              "       [100,  90,  80,  70,  50],\n",
              "       [ 70,  70,  60,  50,  85]])"
            ]
          },
          "execution_count": 51,
          "metadata": {},
          "output_type": "execute_result"
        }
      ],
      "source": [
        "input_array = np.array([[80,50,80,60,70],\n",
        "                       [100,90,80,70,50],\n",
        "                       [70,70,60,50,85]])\n",
        "input_array"
      ],
      "id": "04e3a36f"
    },
    {
      "cell_type": "markdown",
      "metadata": {
        "id": "a38c80f4"
      },
      "source": [
        "If the input is like the above array, then it means we have `3` students. Each student has `5` scores.\n",
        "\n",
        "- The first student's scores are: 80, 50, 80, 60, 70. From first to last, the student Pass, Fail, Pass, Fail, Pass\n",
        "- The second student's scores are: 100, 90, 80, 70, 50. From first to last, the student Pass, Pass, Pass, Pass, Fail\n",
        "- The third student's scores are: 70, 70, 60, 50, 80. From first to last, the student Pass, Pass, Fail, Fail, Pass"
      ],
      "id": "a38c80f4"
    },
    {
      "cell_type": "markdown",
      "metadata": {
        "id": "b04480c7"
      },
      "source": [
        "Then, when we do `grade(input_array)`, output should be like this:\n",
        "`[[P,F,P,F,P],[P,P,P,P,F],[P,P,F,F,P]]`"
      ],
      "id": "b04480c7"
    },
    {
      "cell_type": "markdown",
      "metadata": {
        "id": "f04f7a81"
      },
      "source": [
        "#### Example 2:"
      ],
      "id": "f04f7a81"
    },
    {
      "cell_type": "code",
      "execution_count": null,
      "metadata": {
        "id": "4fed75f0",
        "outputId": "599e332c-90f7-4b82-fcc3-062fbe3ce9a2"
      },
      "outputs": [
        {
          "data": {
            "text/plain": [
              "array([[100,  50, 100],\n",
              "       [ 70,  70,  70],\n",
              "       [ 40,  80,  40],\n",
              "       [ 50,  55,  80]])"
            ]
          },
          "execution_count": 52,
          "metadata": {},
          "output_type": "execute_result"
        }
      ],
      "source": [
        "input_array = np.array([[100,50,100],\n",
        "                       [70,70,70],\n",
        "                       [40,80,40],\n",
        "                       [50,55,80]])\n",
        "input_array"
      ],
      "id": "4fed75f0"
    },
    {
      "cell_type": "markdown",
      "metadata": {
        "id": "5c41c5f8"
      },
      "source": [
        "If the input is like the above array, then it means we have `4` students. Each student has `3` scores. Then, when we do `grade(input_array)`,  output should be like this:"
      ],
      "id": "5c41c5f8"
    },
    {
      "cell_type": "markdown",
      "metadata": {
        "id": "1519c86f"
      },
      "source": [
        "`[[P,F,P], [P,P,P], [F,P,F], [F,F,P]]`"
      ],
      "id": "1519c86f"
    },
    {
      "cell_type": "code",
      "execution_count": null,
      "metadata": {
        "id": "f98be5ff"
      },
      "outputs": [],
      "source": [
        "def grade(input_array):\n",
        "    ### Write your solution here ###\n",
        "    x=input_array\n",
        "    x= np.where(x >= 70, \"P\", x)\n",
        "    x= np.where(x != \"P\", \"F\", x)\n",
        "    print(x)\n",
        "    return"
      ],
      "id": "f98be5ff"
    },
    {
      "cell_type": "markdown",
      "source": [
        "Use this to check if your code is correct"
      ],
      "metadata": {
        "id": "tB70ZvGX_T0y"
      },
      "id": "tB70ZvGX_T0y"
    },
    {
      "cell_type": "code",
      "metadata": {
        "id": "40a70dc3",
        "outputId": "6cd2f158-4e7b-4f07-a603-c6f896c7c084",
        "colab": {
          "base_uri": "https://localhost:8080/"
        }
      },
      "source": [
        "### Test Case 1\n",
        "input_array = np.array([\n",
        "    [100,80,66,55,70],\n",
        "    [80,44,50,80,71],\n",
        "    [60,69,78,75,10],\n",
        "    [100,50,60,70,55]\n",
        "])\n",
        "\n",
        "grade(input_array)"
      ],
      "execution_count": null,
      "outputs": [
        {
          "output_type": "stream",
          "name": "stdout",
          "text": [
            "[['P' 'P' 'F' 'F' 'P']\n",
            " ['P' 'F' 'F' 'P' 'P']\n",
            " ['F' 'F' 'P' 'P' 'F']\n",
            " ['P' 'F' 'F' 'P' 'F']]\n"
          ]
        }
      ],
      "id": "40a70dc3"
    },
    {
      "cell_type": "code",
      "metadata": {
        "id": "3e35a75c",
        "outputId": "ad1f0bb5-81f4-4da5-e661-f34e431fc1fc",
        "colab": {
          "base_uri": "https://localhost:8080/"
        }
      },
      "source": [
        "### Test Case 2\n",
        "input_array = np.array([\n",
        "    [80],\n",
        "    [70],\n",
        "    [30],\n",
        "    [62]\n",
        "])\n",
        "\n",
        "grade(input_array)"
      ],
      "execution_count": null,
      "outputs": [
        {
          "output_type": "stream",
          "name": "stdout",
          "text": [
            "[['P']\n",
            " ['P']\n",
            " ['F']\n",
            " ['F']]\n"
          ]
        }
      ],
      "id": "3e35a75c"
    },
    {
      "cell_type": "code",
      "metadata": {
        "id": "aa1a9767",
        "outputId": "a1423742-8681-4d3d-dd1e-bf9079775057",
        "colab": {
          "base_uri": "https://localhost:8080/"
        }
      },
      "source": [
        "### Test Case 3\n",
        "input_array = np.array([\n",
        "    [55,80,100,25],\n",
        "    [80,70,60,50],\n",
        "    [70,70,65,75],\n",
        "])\n",
        "\n",
        "grade(input_array)"
      ],
      "execution_count": null,
      "outputs": [
        {
          "output_type": "stream",
          "name": "stdout",
          "text": [
            "[['F' 'P' 'P' 'F']\n",
            " ['P' 'P' 'F' 'F']\n",
            " ['P' 'P' 'F' 'P']]\n"
          ]
        }
      ],
      "id": "aa1a9767"
    }
  ],
  "metadata": {
    "colab": {
      "name": "using important library in Python :numpy .ipynb",
      "provenance": [],
      "collapsed_sections": []
    },
    "kernelspec": {
      "display_name": "Python 3",
      "language": "python",
      "name": "python3"
    },
    "language_info": {
      "codemirror_mode": {
        "name": "ipython",
        "version": 3
      },
      "file_extension": ".py",
      "mimetype": "text/x-python",
      "name": "python",
      "nbconvert_exporter": "python",
      "pygments_lexer": "ipython3",
      "version": "3.7.0"
    }
  },
  "nbformat": 4,
  "nbformat_minor": 5
}