{
  "nbformat": 4,
  "nbformat_minor": 5,
  "metadata": {
    "kernelspec": {
      "display_name": "Python 3",
      "language": "python",
      "name": "python3"
    },
    "language_info": {
      "codemirror_mode": {
        "name": "ipython",
        "version": 3
      },
      "file_extension": ".py",
      "mimetype": "text/x-python",
      "name": "python",
      "nbconvert_exporter": "python",
      "pygments_lexer": "ipython3",
      "version": "3.8.5"
    },
    "colab": {
      "name": "[Shift Array]_[Segitiga Paskal]_[Max Distance Between 3 Point].ipynb",
      "provenance": [],
      "collapsed_sections": []
    }
  },
  "cells": [
    {
      "cell_type": "markdown",
      "metadata": {
        "id": "yYHzZQQ7VqWo"
      },
      "source": [
        "# \"Shifting Members of an Array\"\n",
        "We want to shift our array to the right. How many times? Depends on the input. "
      ],
      "id": "yYHzZQQ7VqWo"
    },
    {
      "cell_type": "markdown",
      "metadata": {
        "id": "HnQ0f2qIVqWp"
      },
      "source": [
        "##### Example:\n",
        "array = [1,2,3,4,5]\n",
        "steps = 3\n",
        "\n",
        "We need to shift the array 3 steps to the right. \n",
        "- Original array = [1,2,3,4,5]\n",
        "- Step 1 = [5,1,2,3,4]\n",
        "- Step 2 = [4,5,1,2,3]\n",
        "- Step 3 = [3,4,5,1,2]\n",
        "\n",
        "Output = [3,4,5,1,2]\n",
        "\n",
        "_____________________________________________________________________________\n",
        "\n",
        "array = [1,2,3]\n",
        "steps = 5\n",
        "\n",
        "We need to shift the array 5 steps to the right.\n",
        "\n",
        "- Original array = [1,2,3]\n",
        "- Step 1 = [3,1,2]\n",
        "- Step 2 = [2,3,1]\n",
        "- Step 3 = [1,2,3]\n",
        "- Step 4 = [3,1,2]\n",
        "- Step 5 = [2,3,1]\n",
        "\n",
        "Output = [2,3,1]"
      ],
      "id": "HnQ0f2qIVqWp"
    },
    {
      "cell_type": "code",
      "metadata": {
        "id": "fJsYHD2DVqWq"
      },
      "source": [
        "import numpy as np\n",
        "\n",
        "### Write your function here ###\n",
        "def shift(array, steps):\n",
        "    array_new = np.roll(array, steps)\n",
        "    print(array_new)\n",
        "    return"
      ],
      "id": "fJsYHD2DVqWq",
      "execution_count": 1,
      "outputs": []
    },
    {
      "cell_type": "code",
      "metadata": {
        "id": "qpDQUNijXhd7",
        "colab": {
          "base_uri": "https://localhost:8080/"
        },
        "outputId": "70282a53-3504-4f0f-8c35-c51fb90b5e55"
      },
      "source": [
        "shift([1,2,3,4,5],4)\n",
        "\n",
        "# Expected Output: [2, 3, 4, 5, 1]"
      ],
      "id": "qpDQUNijXhd7",
      "execution_count": 2,
      "outputs": [
        {
          "output_type": "stream",
          "name": "stdout",
          "text": [
            "[2 3 4 5 1]\n"
          ]
        }
      ]
    },
    {
      "cell_type": "code",
      "metadata": {
        "id": "jnr5znJUVqWr",
        "colab": {
          "base_uri": "https://localhost:8080/"
        },
        "outputId": "735060a0-4161-4477-8e94-84bbf3cca479"
      },
      "source": [
        "shift(['andi', 'budi', 'charlie', 'doni'],7)\n",
        "\n",
        "# Expected Output: ['budi', 'charlie', 'doni', 'andi']"
      ],
      "id": "jnr5znJUVqWr",
      "execution_count": 3,
      "outputs": [
        {
          "output_type": "stream",
          "name": "stdout",
          "text": [
            "['budi' 'charlie' 'doni' 'andi']\n"
          ]
        }
      ]
    },
    {
      "cell_type": "code",
      "metadata": {
        "id": "LJaWSk-sW9ak",
        "colab": {
          "base_uri": "https://localhost:8080/"
        },
        "outputId": "8dac88ac-c2df-4c0e-c09c-2214179d0848"
      },
      "source": [
        "shift(['di', 'bim', 'bing', 123, 'data', 'science'],10)\n",
        "\n",
        "# Expected Output: ['bing', 123, 'data', 'science', 'di', 'bim']"
      ],
      "id": "LJaWSk-sW9ak",
      "execution_count": 4,
      "outputs": [
        {
          "output_type": "stream",
          "name": "stdout",
          "text": [
            "['bing' '123' 'data' 'science' 'di' 'bim']\n"
          ]
        }
      ]
    },
    {
      "cell_type": "markdown",
      "metadata": {
        "id": "MRxU2bsKVqWs"
      },
      "source": [
        "# \"Segitiga Paskal\""
      ],
      "id": "MRxU2bsKVqWs"
    },
    {
      "cell_type": "markdown",
      "metadata": {
        "id": "hBUS1vtjVqWs"
      },
      "source": [
        "We want to generate the n-th row of \"Pascal's Triangle\". Your function name should be ```pascal```. For those who does not know pascal triangle, watch this video: https://www.youtube.com/watch?v=1D3KsvfB8b0 and read https://www.mathsisfun.com/pascals-triangle.html \n",
        "\n",
        "##### Example:\n",
        "Input = 4,\n",
        "\n",
        "Answer = [1,4,6,4,1]\n",
        "\n",
        "_____________________________________________________________________________\n",
        "\n",
        "input = 3,\n",
        "\n",
        "Answer = [1,3,3,1]\n",
        "\n"
      ],
      "id": "hBUS1vtjVqWs"
    },
    {
      "cell_type": "code",
      "metadata": {
        "id": "2KDt9NdfVqWt"
      },
      "source": [
        "def pascal(input):\n",
        "    s= input - 1\n",
        "    trow = [1]\n",
        "    y = [0]\n",
        "    for x in range(input):\n",
        "        trow = [left + right for left, right in zip(trow + y, y + trow)]\n",
        "        if x== s :\n",
        "            print(trow)\n",
        "    return "
      ],
      "id": "2KDt9NdfVqWt",
      "execution_count": 5,
      "outputs": []
    },
    {
      "cell_type": "code",
      "source": [
        "pascal(4)"
      ],
      "metadata": {
        "colab": {
          "base_uri": "https://localhost:8080/"
        },
        "id": "Qo7FTUApErsC",
        "outputId": "4c0fe079-d320-4511-e8a3-294790190370"
      },
      "id": "Qo7FTUApErsC",
      "execution_count": 6,
      "outputs": [
        {
          "output_type": "stream",
          "name": "stdout",
          "text": [
            "[1, 4, 6, 4, 1]\n"
          ]
        }
      ]
    },
    {
      "cell_type": "code",
      "metadata": {
        "id": "oRbvyp8oYsrU",
        "colab": {
          "base_uri": "https://localhost:8080/"
        },
        "outputId": "3163218e-2a9e-4242-b62b-01454201f578"
      },
      "source": [
        "pascal(3)"
      ],
      "id": "oRbvyp8oYsrU",
      "execution_count": 7,
      "outputs": [
        {
          "output_type": "stream",
          "name": "stdout",
          "text": [
            "[1, 3, 3, 1]\n"
          ]
        }
      ]
    },
    {
      "cell_type": "markdown",
      "metadata": {
        "id": "q_vw2BtGVqWv"
      },
      "source": [
        "# \"Maximum Distance Between 3 Points\""
      ],
      "id": "q_vw2BtGVqWv"
    },
    {
      "cell_type": "markdown",
      "metadata": {
        "id": "k6qNbSInVqWw"
      },
      "source": [
        "Given three coordinates, determine which two points are the furthest apart, and output the length of their distance. Your function should be called ```max_distance```. First coordinate is called 'A', second coordinate is called 'B', third coordinate is called 'C'. \n",
        "\n",
        "\n",
        "##### Example:\n",
        "A = [1,2],\n",
        "B = [10,-10],\n",
        "C = [-3, 5]\n",
        "\n",
        "- The distance between AB = 15\n",
        "- The distance between BC = 19.8\n",
        "- The distance between AC = 5.0\n",
        "\n",
        "Answer = \"The point A, B are furthest apart with distance 19.8\"\n"
      ],
      "id": "k6qNbSInVqWw"
    },
    {
      "cell_type": "code",
      "source": [
        "import pandas as pd\n",
        "A = list\n",
        "B = list\n",
        "C = list\n"
      ],
      "metadata": {
        "id": "-XGQd_W34RRe"
      },
      "id": "-XGQd_W34RRe",
      "execution_count": 8,
      "outputs": []
    },
    {
      "cell_type": "code",
      "metadata": {
        "id": "la5u9FV4VqWw"
      },
      "source": [
        "def max_distance(A,B,C):\n",
        "\n",
        "  #input list & initializing points in numpy arrays\n",
        "    print (\"input coordinate A \")\n",
        "    A = np.array(([float(x) for x in input().split(\",\")] ))\n",
        "\n",
        "    print (\"input coordinate B  \")\n",
        "    B = np.array(([float(x) for x in input().split(\",\")]))   \n",
        "\n",
        "    print (\"input coordinate C  \")\n",
        "    C = np.array(([float(x) for x in input().split(\",\")]))   \n",
        "\n",
        "    # finding sum of squares\n",
        "    AB = np.sum(np.square(A - B))\n",
        "    BC = np.sum(np.square(B - C))\n",
        "    AC = np.sum(np.square(A - B))\n",
        "\n",
        "    sum_sq_AB = np.sqrt(AB)\n",
        "    sum_sq_BC = np.sqrt(BC)\n",
        "    sum_sq_AC = np.sqrt(AB)\n",
        "\n",
        "    # Doing squareroot and printing Euclidean distance\n",
        "    print(\" \")\n",
        "    print (\"A=\",A,\" B=\",B,\" C=\",C)\n",
        "\n",
        "    print(\" \")\n",
        "    print(\"Distance between AB: \",round(sum_sq_AB, 2))\n",
        "    print(\"Distance between BC: \",round(sum_sq_BC, 2))\n",
        "    print(\"Distance between AC: \",round(sum_sq_AC, 2))\n",
        "\n",
        "    dic = {'point': ['A,B', 'B,C', 'A,C'], \n",
        "          'distance': [sum_sq_AB, sum_sq_BC, sum_sq_AC], \n",
        "          }\n",
        "\n",
        "    df_x = pd.DataFrame(dic)\n",
        "    df_x = df_x.max()\n",
        "\n",
        "    print(\" \")\n",
        "    print(\"The point \",df_x['point'],\" are furthest apart with distance \",round(df_x['distance'], 2))\n",
        "    return"
      ],
      "id": "la5u9FV4VqWw",
      "execution_count": 9,
      "outputs": []
    },
    {
      "cell_type": "code",
      "metadata": {
        "id": "AOlaM0grVqWy",
        "colab": {
          "base_uri": "https://localhost:8080/"
        },
        "outputId": "d2ab3083-aba4-4470-fba8-17f9bb714c43"
      },
      "source": [
        "max_distance(A,B,C)"
      ],
      "id": "AOlaM0grVqWy",
      "execution_count": 11,
      "outputs": [
        {
          "output_type": "stream",
          "name": "stdout",
          "text": [
            "input coordinate A \n",
            "2,5\n",
            "input coordinate B  \n",
            "3,8\n",
            "input coordinate C  \n",
            "10,6\n",
            " \n",
            "A= [2. 5.]  B= [3. 8.]  C= [10.  6.]\n",
            " \n",
            "Distance between AB:  3.16\n",
            "Distance between BC:  7.28\n",
            "Distance between AC:  3.16\n",
            " \n",
            "The point  B,C  are furthest apart with distance  7.28\n"
          ]
        }
      ]
    }
  ]
}